{
 "cells": [
  {
   "cell_type": "code",
   "execution_count": 4,
   "id": "8b2b0cd3-af54-4f2b-aeb7-598eb2c5f747",
   "metadata": {},
   "outputs": [],
   "source": [
    "ceate_table_script = \"\"\"\n",
    "-- 清空并创建交易流水表\n",
    "DROP TABLE IF EXISTS transaction_flow;\n",
    "CREATE TABLE transaction_flow (\n",
    "    transaction_id VARCHAR(64) PRIMARY KEY,\n",
    "    merchant_id VARCHAR(32) NOT NULL,\n",
    "    institution_id VARCHAR(32) NOT NULL,\n",
    "    account_id VARCHAR(32) NOT NULL,\n",
    "    counterparty_id VARCHAR(32) NOT NULL,\n",
    "    transaction_amount DECIMAL(15,2) NOT NULL,\n",
    "    transaction_type VARCHAR(20) NOT NULL,\n",
    "    transaction_time DATETIME NOT NULL,\n",
    "    status VARCHAR(15) NOT NULL,\n",
    "    remark VARCHAR(255)\n",
    ");\n",
    "\n",
    "-- 清空并创建机构信息表\n",
    "DROP TABLE IF EXISTS institution_info;\n",
    "CREATE TABLE institution_info (\n",
    "    institution_id VARCHAR(32) PRIMARY KEY,\n",
    "    institution_name VARCHAR(100) NOT NULL,\n",
    "    institution_type VARCHAR(20) NOT NULL,\n",
    "    license_no VARCHAR(50),\n",
    "    legal_entity VARCHAR(100),\n",
    "    contact_phone VARCHAR(20),\n",
    "    contact_email VARCHAR(100),\n",
    "    status VARCHAR(15) NOT NULL,\n",
    "    create_time DATETIME NOT NULL\n",
    ");\n",
    "\n",
    "-- 清空并创建商户信息表\n",
    "DROP TABLE IF EXISTS merchant_info;\n",
    "CREATE TABLE merchant_info (\n",
    "    merchant_id VARCHAR(32) PRIMARY KEY,\n",
    "    merchant_name VARCHAR(100) NOT NULL,\n",
    "    merchant_type VARCHAR(20) NOT NULL,\n",
    "    merchant_category VARCHAR(10),\n",
    "    legal_person VARCHAR(50),\n",
    "    business_license VARCHAR(50),\n",
    "    settlement_account VARCHAR(32),\n",
    "    status VARCHAR(15) NOT NULL,\n",
    "    register_time DATETIME NOT NULL\n",
    ");\n",
    "\n",
    "\"\"\""
   ]
  },
  {
   "cell_type": "code",
   "execution_count": 7,
   "id": "565098ea-0d6a-41db-abbe-0a3c3cf4fc6e",
   "metadata": {},
   "outputs": [],
   "source": [
    "# import sqlite3\n",
    "# conn = sqlite3.connect('business.db')\n",
    "# cursor = conn.cursor()\n",
    "\n",
    "# cursor.executescript(ceate_table_script)"
   ]
  },
  {
   "cell_type": "code",
   "execution_count": 5,
   "id": "fbfa13ce-b45d-4a00-aae9-a095728d609d",
   "metadata": {},
   "outputs": [
    {
     "name": "stdout",
     "output_type": "stream",
     "text": [
      "所有SQL文件已依次执行完成。\n"
     ]
    }
   ],
   "source": [
    "import sqlite3\n",
    "\n",
    "# 指定数据库文件路径（例如，'mydatabase.db'）\n",
    "db_path = 'business.db'\n",
    "\n",
    "# 指定SQL文件路径列表，按执行顺序排列\n",
    "sql_files = ['create_tables.sql', 'sql.sql']\n",
    "\n",
    "# 连接到SQLite数据库\n",
    "conn = sqlite3.connect(db_path)\n",
    "cursor = conn.cursor()\n",
    "\n",
    "# 依次执行每个SQL文件\n",
    "for sql_file_path in sql_files:\n",
    "    with open(sql_file_path, 'r', encoding='utf-8') as sql_file:\n",
    "        sql_script = sql_file.read()\n",
    "    cursor.executescript(sql_script)\n",
    "\n",
    "# 提交更改（如果SQL涉及数据修改）\n",
    "conn.commit()\n",
    "\n",
    "# 关闭连接\n",
    "conn.close()\n",
    "\n",
    "print(\"所有SQL文件已依次执行完成。\")"
   ]
  },
  {
   "cell_type": "code",
   "execution_count": 6,
   "id": "5724d0a1-dcab-4b8c-96ef-eb4e31352a25",
   "metadata": {},
   "outputs": [
    {
     "name": "stdout",
     "output_type": "stream",
     "text": [
      "('0127202d33f14538be44baa99086a67b', '455712665367', '00010236', '6212221234565786', '62127689546702347', 560.32, 'PAYMENT', '2025-10-15 13:47:56', 'SUCCESS', '')\n",
      "('0d39bbec49vfd31e324b2241cf3fds21', '455712665367', '00010348', '6212211765728893', '62178447766742654', 90.32, 'PAYMENT', '2025-10-15 14:31:52', 'SUCCESS', '')\n",
      "('0d39d56c498544f7a34b2241cf3fds21', '455712665367', '00022234541', '6212421431748893', '6217855543142654', 67.21, 'PAYMENT', '2025-10-15 14:17:08', 'SUCCESS', '')\n",
      "('0d39d56c498544f7a34b2241cf3ff1ad', '455712665367', '000223541', '6212421517448893', '6217856782542654', 99.32, 'PAYMENT', '2025-10-15 14:01:34', 'SUCCESS', '')\n",
      "('0d39d56c49854gbe324b2241cf3fds21', '455712665367', '00010236', '6212547731748893', '62178555423662654', 77.8, 'PAYMENT', '2025-10-15 14:31:01', 'SUCCESS', '')\n",
      "('0d39d56c49vfd31e324b2241cf3fds21', '455712665367', '00010348', '6212211731748893', '62178555466742654', 88.2, 'PAYMENT', '2025-10-15 14:31:26', 'SUCCESS', '')\n",
      "('1fa79c11695947619d7334132119d2ba', '455712665367', '00022234541', '6212221232357893', '62127689546347654', 230.42, 'PAYMENT', '2025-10-15 13:51:28', 'SUCCESS', '')\n",
      "('5f449ef19fbb410f8a976003c79d5372', '4567224789867', '000223541', '6212221238965893', '62127689523677654', 170.62, 'PAYMENT', '2025-10-15 13:52:33', 'SUCCESS', '')\n",
      "('735bb43a5e044e4d9f07cbd57163580f', '4567224789867', '00010236', '6212221238347893', '6212768124577654', 2245.89, 'PAYMENT', '2025-10-15 13:53:12', 'SUCCESS', '')\n",
      "('76bc6be2f5414a60a794f38020f8e52f', '4567224789867', '00010348', '6212221233246893', '6212567894577654', 3362.72, 'PAYMENT', '2025-10-15 13:53:43', 'SUCCESS', '')\n",
      "('88b2cb3cb556461fa624be8e316caf7d', '4567224789867', '00022234541', '6212225783246893', '6212562167877654', 262.3, 'PAYMENT', '2025-10-15 13:54:22', 'SUCCESS', '')\n",
      "('9d86f8dc3c96437e8e7910d5e7dbddd5', '4567224789867', '000223541', '6212223467846893', '6212562156877654', 356.22, 'PAYMENT', '2025-10-15 13:55:03', 'SUCCESS', '')\n",
      "('bfa5169161394d3694234da8c88f4767', '4567224789867', '00010236', '6212223465678893', '6212562123477654', 452.23, 'PAYMENT', '2025-10-15 13:55:35', 'SUCCESS', '')\n",
      "('d6e872e8c78a4082b815533e45b829ea', '4567224789867', '00010348', '6212224478678893', '6212562112177654', 33.62, 'PAYMENT', '2025-10-15 13:56:03', 'SUCCESS', '')\n",
      "('f6dd84bea69344fbg567ee4bb128a39c0', '45672345674567', '00022234541', '6212224323678893', '6211283332177654', 38.76, 'PAYMENT', '2025-10-15 13:57:44', 'SUCCESS', '')\n",
      "('f6dd84bea6934912a56ee4bb128a39c0', '45672345674567', '000223541', '6212224346778893', '6211289112177654', 44.52, 'PAYMENT', '2025-10-15 13:56:34', 'SUCCESS', '')\n",
      "('f6dfb56ma69344fbg567ee4bb128a39c0', '45672345674567', '00010236', '6212225553678893', '6211283332542654', 56.72, 'REFUND', '2025-10-15 13:58:25', 'SUCCESS', '')\n",
      "('f6dfb56ma69g45dzg567ee4bb128a39c0', '45672345674567', '00010348', '6212457853678893', '6211223132542654', 77.2, 'PAYMENT', '2025-10-15 13:59:04', 'FAILED', '')\n",
      "('f6dfb56ma69g45dzg56gb56bb128a39c0', '45672345674567', '00022234541', '6212457857448893', '6217877132542654', 79.2, 'REFUND', '2025-10-15 13:59:32', 'FAILED', '')\n",
      "('f6dfb56ma6bgde4zg56gb56bb128a39c0', '45672345674567', '000223541', '6212454117448893', '6217834232542654', 88.7, 'PAYMENT', '2025-10-15 14:00:05', 'SUCCESS', '')\n"
     ]
    }
   ],
   "source": [
    "conn = sqlite3.connect('business.db')\n",
    "\n",
    "# 创建游标\n",
    "cursor = conn.cursor()\n",
    "\n",
    "# 执行 SELECT 查询\n",
    "cursor.execute('''\n",
    "SELECT * \n",
    "FROM transaction_flow\n",
    ";\n",
    "''')\n",
    "\n",
    "# 获取所有结果\n",
    "results = cursor.fetchall()\n",
    "\n",
    "# 打印结果\n",
    "for row in results:\n",
    "    print(row)\n",
    "\n",
    "# 关闭连接\n",
    "conn.close()"
   ]
  },
  {
   "cell_type": "code",
   "execution_count": null,
   "id": "f77ead49-8db7-4ab2-a5da-f88be63ea1c8",
   "metadata": {},
   "outputs": [],
   "source": []
  }
 ],
 "metadata": {
  "kernelspec": {
   "display_name": "Python 3 (ipykernel)",
   "language": "python",
   "name": "python3"
  },
  "language_info": {
   "codemirror_mode": {
    "name": "ipython",
    "version": 3
   },
   "file_extension": ".py",
   "mimetype": "text/x-python",
   "name": "python",
   "nbconvert_exporter": "python",
   "pygments_lexer": "ipython3",
   "version": "3.12.3"
  }
 },
 "nbformat": 4,
 "nbformat_minor": 5
}
