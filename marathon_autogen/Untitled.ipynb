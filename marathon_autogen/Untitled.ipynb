{
 "cells": [
  {
   "cell_type": "code",
   "execution_count": 7,
   "id": "6d908c9b-401f-45f1-bb35-46f2478723c7",
   "metadata": {},
   "outputs": [],
   "source": [
    "import asyncio\n",
    "from typing import Sequence\n",
    "from autogen_agentchat.agents import BaseChatAgent\n",
    "from autogen_agentchat.base import Response\n",
    "from autogen_agentchat.messages import BaseChatMessage, TextMessage\n",
    "from autogen_agentchat.teams import SelectorGroupChat\n",
    "from autogen_agentchat.conditions import MaxMessageTermination\n",
    "from autogen_ext.models.openai import OpenAIChatCompletionClient\n",
    "from autogen_core import CancellationToken\n",
    "import requests\n"
   ]
  },
  {
   "cell_type": "code",
   "execution_count": 8,
   "id": "c9aa6885-5a9f-49f1-838e-149fdda122c8",
   "metadata": {},
   "outputs": [],
   "source": [
    "class RAGAgent(BaseChatAgent):\n",
    "    def __init__(self, name: str):\n",
    "        super().__init__(name, description=\"用于执行 RAG 检索服务。\")\n",
    "        self._message_history: list[BaseChatMessage] = []\n",
    "\n",
    "    @property\n",
    "    def produced_message_types(self) -> Sequence[type[BaseChatMessage]]:\n",
    "        return (TextMessage,)\n",
    "\n",
    "    async def on_messages(self, messages: Sequence[BaseChatMessage], cancellation_token: CancellationToken) -> Response:\n",
    "        self._message_history.extend(messages)\n",
    "        query = self._message_history[-1].content\n",
    "        \n",
    "        simulated_response = {\"income_rmb\": 1845.04}  \n",
    "        #requests.post(\"http://your-rag-service/api\", json={\"query\": query})\n",
    "        result = f\"腾讯 2025 年第二季度收入：{simulated_response['income_rmb']} 亿元人民币。\"\n",
    "        response_message = TextMessage(content=result, source=self.name)\n",
    "        self._message_history.append(response_message)\n",
    "        return Response(chat_message=response_message)\n",
    "\n",
    "    async def on_reset(self, cancellation_token: CancellationToken) -> None:\n",
    "        self._message_history.clear()"
   ]
  },
  {
   "cell_type": "code",
   "execution_count": 9,
   "id": "748b12ba-66f9-408f-b3b6-53585083cdf2",
   "metadata": {},
   "outputs": [],
   "source": [
    "class MCPAgent(BaseChatAgent):\n",
    "    def __init__(self, name: str):\n",
    "        super().__init__(name, description=\"执行 MCP 汇率工具，进行货币换算。\")\n",
    "        self._message_history: list[BaseChatMessage] = []\n",
    "\n",
    "    async def on_messages(self, messages: Sequence[BaseChatMessage], cancellation_token: CancellationToken) -> Response:\n",
    "        self._message_history.extend(messages)\n",
    "        input_data = self._message_history[-1].content  # 获取前一步 RAG 输出\n",
    "        # 解析收入（假设从输入中提取数字）\n",
    "        import re\n",
    "        income_rmb = float(re.search(r'(\\d+\\.?\\d*) 亿元人民币', input_data).group(1))\n",
    "        # 模拟调用 MCP 汇率 API（替换为您的实际端点）\n",
    "        # 假设汇率：1 RMB = 0.1202 EUR（2025 年 10 月数据）\n",
    "        exchange_rate = 0.1202  \n",
    "        # response = requests.get(\"http://your-mcp-service/api/exchange?from=CNY&to=EUR\")\n",
    "        income_eur = income_rmb * exchange_rate\n",
    "        result = f\"换算后欧元收入：{income_eur:.2f} 亿元欧元（汇率 1 RMB ≈ {exchange_rate} EUR）。\"\n",
    "        response_message = TextMessage(content=result, source=self.name)\n",
    "        self._message_history.append(response_message)\n",
    "        return Response(chat_message=response_message)\n",
    "\n",
    "    async def on_reset(self, cancellation_token: CancellationToken) -> None:\n",
    "        self._message_history.clear()"
   ]
  },
  {
   "cell_type": "code",
   "execution_count": 10,
   "id": "1aa62b86-c245-4002-b3c6-84562ce4d50c",
   "metadata": {},
   "outputs": [],
   "source": [
    "class IntegratorAgent(BaseChatAgent):\n",
    "    def __init__(self, name: str):\n",
    "        super().__init__(name, description=\"整合所有结果，生成最终答案。\")\n",
    "        self._message_history: list[BaseChatMessage] = []\n",
    "\n",
    "    async def on_messages(self, messages: Sequence[BaseChatMessage], cancellation_token: CancellationToken) -> Response:\n",
    "        self._message_history.extend(messages)\n",
    "        # 收集历史结果\n",
    "        rag_result = [msg.content for msg in self._message_history if msg.source == \"rag_agent\"][-1]\n",
    "        mcp_result = [msg.content for msg in self._message_history if msg.source == \"mcp_agent\"][-1]\n",
    "        final_answer = f\"查询结果：{rag_result} {mcp_result}\"\n",
    "        response_message = TextMessage(content=final_answer, source=self.name)\n",
    "        self._message_history.append(response_message)\n",
    "        return Response(chat_message=response_message)\n",
    "\n",
    "    async def on_reset(self, cancellation_token: CancellationToken) -> None:\n",
    "        self._message_history.clear()"
   ]
  },
  {
   "cell_type": "code",
   "execution_count": 12,
   "id": "192c4a42-9e80-4a53-bcfb-34fde0dee0e0",
   "metadata": {},
   "outputs": [],
   "source": [
    "async def run_demo(query: str):\n",
    "    # 初始化代理\n",
    "    rag_agent = RAGAgent(\"rag_agent\")\n",
    "    mcp_agent = MCPAgent(\"mcp_agent\")\n",
    "    integrator_agent = IntegratorAgent(\"integrator_agent\")\n",
    "\n",
    "    # 配置 SelectorGroupChat（LLM 规划顺序）\n",
    "    selector_group_chat = SelectorGroupChat(\n",
    "        agents=[rag_agent, mcp_agent, integrator_agent],\n",
    "        model_client=OpenAIChatCompletionClient(model=\"gpt-4o\"),  # 替换为您的 LLM 配置\n",
    "        termination_condition=MaxMessageTermination(5),  # 最大消息终止\n",
    "        allow_repeated_speaker=True,\n",
    "        selector_prompt=(\n",
    "            \"可用代理：{roles}\\n其描述：{participants}\\n\"\n",
    "            \"基于查询 '{query}'，选择最合适的代理，仅返回代理名称。\"\n",
    "        ),\n",
    "    )\n",
    "\n",
    "    # 启动任务\n",
    "    task = [TextMessage(content=query, source=\"user\")]\n",
    "    stream = selector_group_chat.run_stream(task=task)\n",
    "    final_output = \"\"\n",
    "    async for message in stream:\n",
    "        if isinstance(message, TextMessage):\n",
    "            final_output += message.content + \"\\n\"\n",
    "    return final_output"
   ]
  },
  {
   "cell_type": "code",
   "execution_count": 13,
   "id": "bc899cad-6317-4373-8a9a-ff5598f74ef1",
   "metadata": {},
   "outputs": [
    {
     "ename": "RuntimeError",
     "evalue": "asyncio.run() cannot be called from a running event loop",
     "output_type": "error",
     "traceback": [
      "\u001b[31m---------------------------------------------------------------------------\u001b[39m",
      "\u001b[31mRuntimeError\u001b[39m                              Traceback (most recent call last)",
      "\u001b[36mCell\u001b[39m\u001b[36m \u001b[39m\u001b[32mIn[13]\u001b[39m\u001b[32m, line 2\u001b[39m\n\u001b[32m      1\u001b[39m query = \u001b[33m\"\u001b[39m\u001b[33m腾讯2025年财报换算成欧元收入是多少？\u001b[39m\u001b[33m\"\u001b[39m\n\u001b[32m----> \u001b[39m\u001b[32m2\u001b[39m result = \u001b[43masyncio\u001b[49m\u001b[43m.\u001b[49m\u001b[43mrun\u001b[49m\u001b[43m(\u001b[49m\u001b[43mrun_demo\u001b[49m\u001b[43m(\u001b[49m\u001b[43mquery\u001b[49m\u001b[43m)\u001b[49m\u001b[43m)\u001b[49m\n\u001b[32m      3\u001b[39m \u001b[38;5;28mprint\u001b[39m(\u001b[33m\"\u001b[39m\u001b[33m最终输出：\u001b[39m\u001b[38;5;130;01m\\n\u001b[39;00m\u001b[33m\"\u001b[39m, result)\n",
      "\u001b[36mFile \u001b[39m\u001b[32m~/miniconda3/lib/python3.12/asyncio/runners.py:190\u001b[39m, in \u001b[36mrun\u001b[39m\u001b[34m(main, debug, loop_factory)\u001b[39m\n\u001b[32m    161\u001b[39m \u001b[38;5;250m\u001b[39m\u001b[33;03m\"\"\"Execute the coroutine and return the result.\u001b[39;00m\n\u001b[32m    162\u001b[39m \n\u001b[32m    163\u001b[39m \u001b[33;03mThis function runs the passed coroutine, taking care of\u001b[39;00m\n\u001b[32m   (...)\u001b[39m\u001b[32m    186\u001b[39m \u001b[33;03m    asyncio.run(main())\u001b[39;00m\n\u001b[32m    187\u001b[39m \u001b[33;03m\"\"\"\u001b[39;00m\n\u001b[32m    188\u001b[39m \u001b[38;5;28;01mif\u001b[39;00m events._get_running_loop() \u001b[38;5;129;01mis\u001b[39;00m \u001b[38;5;129;01mnot\u001b[39;00m \u001b[38;5;28;01mNone\u001b[39;00m:\n\u001b[32m    189\u001b[39m     \u001b[38;5;66;03m# fail fast with short traceback\u001b[39;00m\n\u001b[32m--> \u001b[39m\u001b[32m190\u001b[39m     \u001b[38;5;28;01mraise\u001b[39;00m \u001b[38;5;167;01mRuntimeError\u001b[39;00m(\n\u001b[32m    191\u001b[39m         \u001b[33m\"\u001b[39m\u001b[33masyncio.run() cannot be called from a running event loop\u001b[39m\u001b[33m\"\u001b[39m)\n\u001b[32m    193\u001b[39m \u001b[38;5;28;01mwith\u001b[39;00m Runner(debug=debug, loop_factory=loop_factory) \u001b[38;5;28;01mas\u001b[39;00m runner:\n\u001b[32m    194\u001b[39m     \u001b[38;5;28;01mreturn\u001b[39;00m runner.run(main)\n",
      "\u001b[31mRuntimeError\u001b[39m: asyncio.run() cannot be called from a running event loop"
     ]
    }
   ],
   "source": [
    "query = \"腾讯2025年财报换算成欧元收入是多少？\"\n",
    "result = asyncio.run(run_demo(query))\n",
    "print(\"最终输出：\\n\", result)"
   ]
  },
  {
   "cell_type": "code",
   "execution_count": null,
   "id": "34be3a58-841f-4dac-aba4-df07faa5da10",
   "metadata": {},
   "outputs": [],
   "source": []
  }
 ],
 "metadata": {
  "kernelspec": {
   "display_name": "Python 3 (ipykernel)",
   "language": "python",
   "name": "python3"
  },
  "language_info": {
   "codemirror_mode": {
    "name": "ipython",
    "version": 3
   },
   "file_extension": ".py",
   "mimetype": "text/x-python",
   "name": "python",
   "nbconvert_exporter": "python",
   "pygments_lexer": "ipython3",
   "version": "3.12.3"
  }
 },
 "nbformat": 4,
 "nbformat_minor": 5
}
